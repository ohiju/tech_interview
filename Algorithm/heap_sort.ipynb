{
 "cells": [
  {
   "cell_type": "markdown",
   "id": "f9e24855",
   "metadata": {},
   "source": [
    "# 힙 정렬"
   ]
  },
  {
   "cell_type": "markdown",
   "id": "78077882",
   "metadata": {},
   "source": [
    "### 힙이란\n",
    "- 최대 힙이나 최소 힙을 구성해 정렬을 하는 방법\n",
    "- 불안정 정렬인 이유: 최댓값은 확실하나 같은 층의 숫자끼리는 정렬되어 있지 않아서\n",
    "- 시간복잡도 : O(nlogn)\n",
    "\n",
    "- 부모 노드와 자식 노드로"
   ]
  },
  {
   "cell_type": "markdown",
   "id": "abd4e795",
   "metadata": {},
   "source": [
    "### 부모 노드와 자식 노드의 관계"
   ]
  },
  {
   "cell_type": "markdown",
   "id": "345a1ce0",
   "metadata": {},
   "source": [
    "![힙 노드 한눈에](https://i.imgur.com/3sUWVY2.png)"
   ]
  },
  {
   "cell_type": "markdown",
   "id": "daccce09",
   "metadata": {},
   "source": [
    "### 내림차순 '최대 힙'과 오름차순 '최소 힙'"
   ]
  },
  {
   "cell_type": "markdown",
   "id": "618beefe",
   "metadata": {},
   "source": [
    "![힙 종류](https://gmlwjd9405.github.io/images/data-structure-heap/types-of-heap.png)"
   ]
  },
  {
   "cell_type": "markdown",
   "id": "619bc5f3",
   "metadata": {},
   "source": [
    "### 힙의 단계\n",
    "1. 분할(Divide): 정렬되지 않은 배열을 반으로 분할합니다.\n",
    "2. 정복(Conquer): 각각의 부분 배열을 재귀적으로 병합 정렬합니다.\n",
    "3. 결합(Combine): 정렬된 두 개의 부분 배열을 하나의 정렬된 배열로 병합합니다."
   ]
  },
  {
   "cell_type": "markdown",
   "id": "c9e33270",
   "metadata": {},
   "source": [
    "### 최소 힙 구조 만들기"
   ]
  },
  {
   "cell_type": "code",
   "execution_count": 1,
   "id": "85565c9e",
   "metadata": {},
   "outputs": [],
   "source": [
    "def heapify(li, idx, n):\n",
    "    # li : 힙으로 만들고자 하는 배열\n",
    "    # idx : 선택된 노드\n",
    "    # n : 힙의 범위\n",
    "\n",
    "    # 자식의 왼쪽 노드를 의미\n",
    "    left = idx * 2\n",
    "    # 자식의 오른쪽 노드를 의미\n",
    "    right = idx * 2 + 1\n",
    "    s_idx = idx\n",
    "\n",
    "    # 선택 노드, 선택 노드의 양 자식 중 가장 작은 값을 찾는 과정\n",
    "    if left <= n and li[s_idx] > li[left]:\n",
    "        s_idx = left\n",
    "    if right <= n and li[s_idx] > li[right]:\n",
    "        s_idx = right\n",
    "\n",
    "    # 선택 노드와 자식 노드의 위치가 바뀌어야 한다면\n",
    "    if s_idx != idx:\n",
    "        # 부모 자식 위치 변경\n",
    "        li[idx], li[s_idx] = li[s_idx], li[idx]\n",
    "        # 부모가 자식으로 내려간 이후에도, 그 자식과 바뀔 여지가 있는지 재귀로 체크\n",
    "        return heapify(li, s_idx, n)"
   ]
  },
  {
   "cell_type": "markdown",
   "id": "5d480e34",
   "metadata": {},
   "source": [
    "### 최소 힙 정렬 실행"
   ]
  },
  {
   "cell_type": "code",
   "execution_count": 2,
   "id": "42e82ec2",
   "metadata": {},
   "outputs": [],
   "source": [
    "def heap_sort(array):\n",
    "    n = len(array)\n",
    "\n",
    "    # 루트노드는 index 1부터 시작하므로, 앞에 0 원소를 추가한 채로 시작.\n",
    "    array = [0] + array\n",
    "\n",
    "    # 최종 정렬된 원소들이 저장될 배열\n",
    "    ans = []\n",
    "\n",
    "    # Min Heap을 만드는 과정\n",
    "    for i in range(n // 2, 0, -1):\n",
    "        heapify(array, i, n)\n",
    "\n",
    "    # 루트 노드 원소를 정렬 배열에 저장, heapify 반복\n",
    "    for i in range(n, 0, -1):\n",
    "        ans.append(array[1])\n",
    "        array[i], array[1] = array[1], array[i]\n",
    "        heapify(array, 1, i - 1)\n",
    "\n",
    "    # array[1:]를 얻으면 오름차순 정렬 배열을 얻을 수 있음\n",
    "    return ans"
   ]
  },
  {
   "cell_type": "markdown",
   "id": "65cd3d79",
   "metadata": {},
   "source": [
    "![예제 2](https://blog.kakaocdn.net/dn/bzfBwF/btqFOM16NBX/AlAJkIe4uwtXHd6hThT7Kk/img.gif)"
   ]
  },
  {
   "cell_type": "code",
   "execution_count": 3,
   "id": "c0851eb4",
   "metadata": {},
   "outputs": [
    {
     "name": "stdout",
     "output_type": "stream",
     "text": [
      "[1, 2, 3, 4, 5, 6, 7]\n"
     ]
    }
   ],
   "source": [
    "print(heap_sort([3, 4, 5, 2, 1, 6, 7]))"
   ]
  },
  {
   "cell_type": "markdown",
   "id": "9e5b4bcd",
   "metadata": {},
   "source": [
    "### 장점\n",
    "- 안정적인 성능(최악/평균/최선 성능이 동일)\n",
    "- 추가적인 메모리 공간 사용 X"
   ]
  },
  {
   "cell_type": "markdown",
   "id": "37097e3c",
   "metadata": {},
   "source": [
    "### 단점\n",
    "- 구현이 복잡한데 평균점으로 퀵 정렬보다 느려서 실제로 활용되지 않음\n",
    "    - 참조 지역성 원리 : 힙 정렬은 트리로 구성된 것을 전제로 하기 때문에 원소를 임의 접근하는 반면, 퀵 정렬은 인접한 원소를 접근하는 방식으로 전개되어 실제론 힙 정렬보다 빠른 처리 속도"
   ]
  }
 ],
 "metadata": {
  "kernelspec": {
   "display_name": "Python 3 (ipykernel)",
   "language": "python",
   "name": "python3"
  },
  "language_info": {
   "codemirror_mode": {
    "name": "ipython",
    "version": 3
   },
   "file_extension": ".py",
   "mimetype": "text/x-python",
   "name": "python",
   "nbconvert_exporter": "python",
   "pygments_lexer": "ipython3",
   "version": "3.10.9"
  }
 },
 "nbformat": 4,
 "nbformat_minor": 5
}
